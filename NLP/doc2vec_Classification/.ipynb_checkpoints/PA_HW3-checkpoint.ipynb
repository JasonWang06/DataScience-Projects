{
 "cells": [
  {
   "cell_type": "code",
   "execution_count": null,
   "metadata": {
    "collapsed": false
   },
   "outputs": [],
   "source": [
    "import json\n",
    "from watson_developer_cloud import NaturalLanguageUnderstandingV1\n",
    "import watson_developer_cloud.natural_language_understanding.features.v1 as Features\n",
    "import os\n",
    "import pandas as pd\n",
    "import collections\n",
    "import numpy as np\n",
    "import nltk\n",
    "#nltk.download('punkt')\n",
    "#nltk.download('wordnet')\n",
    "#nltk.download('words')\n",
    "from nltk.stem.wordnet import WordNetLemmatizer\n",
    "from nltk import word_tokenize\n",
    "from gensim.models import Word2Vec\n",
    "from sklearn.cluster import KMeans\n",
    "from sklearn import decomposition\n",
    "import matplotlib.pyplot as plt\n",
    "import matplotlib.cm as cm\n",
    "import sklearn"
   ]
  },
  {
   "cell_type": "code",
   "execution_count": null,
   "metadata": {
    "collapsed": false
   },
   "outputs": [],
   "source": [
    "data_0 = pd.read_csv(\"tf_idf_sw0.csv\",index_col = 'Unnamed: 0')\n",
    "data_2 = pd.read_csv(\"tf_idf_sw2.csv\",index_col = 'Unnamed: 0')\n",
    "data_6 = pd.read_csv(\"tf_idf_sw6.csv\",index_col = 'Unnamed: 0')"
   ]
  },
  {
   "cell_type": "code",
   "execution_count": null,
   "metadata": {
    "collapsed": true
   },
   "outputs": [],
   "source": [
    "\n",
    "C1: Airline Safety\n",
    "C2: Amphertamine\n",
    "C3: China and Spy Plan and Captives \n",
    "C4: Hoof and Mouth Desease\n",
    "C5: Iran Nuclear\n",
    "C6: Korea and Nuclear Capability \n",
    "C7: Mortrage Rates\n",
    "C8: Ocean and Pollution\n",
    "C9: Satanic Cult\n",
    "C10: Store Irene\n",
    "C11: Volcano\n",
    "C12: Saddam Hussein\n",
    "C13: Kim Jong-un\n",
    "C14: Predictive Analytics \n",
    "C15: Irma & Harvey"
   ]
  },
  {
   "cell_type": "code",
   "execution_count": null,
   "metadata": {
    "collapsed": false
   },
   "outputs": [],
   "source": [
    "y = []\n",
    "for index,row in data_0.iterrows():\n",
    "    data_0.loc[index,'y'] = index.split(\"-\")[0]\n",
    "\n",
    "y = data_0['y']\n",
    "data_0.drop('y',axis = 1);\n",
    "\n"
   ]
  },
  {
   "cell_type": "code",
   "execution_count": null,
   "metadata": {
    "collapsed": false
   },
   "outputs": [],
   "source": [
    "def my_KNN(X,y,k=2,fold = 10):\n",
    "    \n",
    "    "
   ]
  },
  {
   "cell_type": "code",
   "execution_count": null,
   "metadata": {
    "collapsed": false
   },
   "outputs": [],
   "source": [
    "#entropy as loss\n",
    "def entropy(cluster,tot):\n",
    "    entropy = 0;\n",
    "    for clust in cluster.values():\n",
    "        size = len(clust)\n",
    "        SUM = 0;\n",
    "        dic = collections.defaultdict(int)\n",
    "        for txt in clust:\n",
    "            dic[txt.split(\"-\")[0]]+=1;\n",
    "        for no in dic.values():\n",
    "            if no!=0:\n",
    "                p = no/size\n",
    "                SUM-=p*np.log2(p)\n",
    "        entropy+=(size/tot)*SUM\n",
    "    return entropy"
   ]
  },
  {
   "cell_type": "code",
   "execution_count": null,
   "metadata": {
    "collapsed": true
   },
   "outputs": [],
   "source": []
  },
  {
   "cell_type": "code",
   "execution_count": null,
   "metadata": {
    "collapsed": true
   },
   "outputs": [],
   "source": []
  }
 ],
 "metadata": {
  "anaconda-cloud": {},
  "kernelspec": {
   "display_name": "Python [conda root]",
   "language": "python",
   "name": "conda-root-py"
  },
  "language_info": {
   "codemirror_mode": {
    "name": "ipython",
    "version": 3
   },
   "file_extension": ".py",
   "mimetype": "text/x-python",
   "name": "python",
   "nbconvert_exporter": "python",
   "pygments_lexer": "ipython3",
   "version": "3.5.2"
  }
 },
 "nbformat": 4,
 "nbformat_minor": 2
}
