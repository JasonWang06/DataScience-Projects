{
 "cells": [
  {
   "cell_type": "code",
   "execution_count": 145,
   "metadata": {
    "collapsed": false
   },
   "outputs": [],
   "source": [
    "import json\n",
    "from watson_developer_cloud import NaturalLanguageUnderstandingV1\n",
    "import watson_developer_cloud.natural_language_understanding.features.v1 as Features\n",
    "import os\n",
    "import pandas as pd\n",
    "import collections\n",
    "import numpy as np\n",
    "import nltk\n",
    "#nltk.download('punkt')\n",
    "#nltk.download('wordnet')\n",
    "#nltk.download('words')\n",
    "from nltk.stem.wordnet import WordNetLemmatizer\n",
    "from nltk import word_tokenize\n",
    "from gensim.models import Word2Vec\n",
    "from sklearn.cluster import KMeans\n",
    "from sklearn import decomposition\n",
    "import visuals as vs\n",
    "import matplotlib.pyplot as plt\n",
    "import matplotlib.cm as cm\n"
   ]
  },
  {
   "cell_type": "code",
   "execution_count": null,
   "metadata": {
    "collapsed": false
   },
   "outputs": [],
   "source": [
    "text_files = collections.defaultdict(dict)\n",
    "stopwords = open(os.getcwd()+\"/stopwords.txt\",'r',encoding='iso-8859-15')\n",
    "sw = stopwords.read().split(\"\\n\")\n",
    "lmtzr = WordNetLemmatizer()\n",
    "natural_language_understanding = NaturalLanguageUnderstandingV1(\n",
    "    version=\"2017-02-27\",\n",
    "    username= \"f5a94af4-8d30-4e17-ab0e-4dcf4c13334c\",\n",
    "    password=\"6F4aRO0rxkrd\")"
   ]
  },
  {
   "cell_type": "code",
   "execution_count": null,
   "metadata": {
    "collapsed": false
   },
   "outputs": [],
   "source": [
    "#read text files and save them in a dic\n",
    "for filename in os.listdir(os.getcwd()+'/DataSet'):\n",
    "    if filename.startswith(\"C\"):\n",
    "        add = os.getcwd()+'/DataSet/'+filename;\n",
    "        for txt in os.listdir(add):\n",
    "            if txt.endswith(\"txt\"):\n",
    "                try:\n",
    "                    with open(add+\"//\"+txt, 'r',encoding='iso-8859-15') as myfile:\n",
    "                        data=myfile.read()\n",
    "                        text_files[filename][txt] = data  \n",
    "                except Exception as inst:\n",
    "                    print(add+\"/\"+txt)\n",
    "                    print(type(inst))     # the exception instance\n",
    "print(\"All text files are inputed\")"
   ]
  },
  {
   "cell_type": "code",
   "execution_count": null,
   "metadata": {
    "collapsed": false
   },
   "outputs": [],
   "source": [
    "#check if the word is the begining of some NE\n",
    "def is_ne(entities,tokens,index):\n",
    "    for entity in entities:\n",
    "        length = len(entity.split(\" \"))\n",
    "        if \" \".join(tokens[index:index+length]) == entity:\n",
    "            return length;\n",
    "    return 0;\n",
    "            "
   ]
  },
  {
   "cell_type": "code",
   "execution_count": null,
   "metadata": {
    "collapsed": true
   },
   "outputs": [],
   "source": [
    "#1. delete the keywords without delete those inside the entities\n",
    "#2. save the tokens and entities to a refined array\n",
    "#3. count how many times each token appear by itself\n",
    "def refine_txt(tokens,entities):\n",
    "    index = 0\n",
    "    dic = collections.defaultdict(int)\n",
    "    refined = []\n",
    "    while index<len(tokens):\n",
    "        token = tokens[index]\n",
    "        if token.lower() not in sw:\n",
    "            ne = is_ne(entities,tokens,index)\n",
    "            if ne:\n",
    "                idt = \" \".join(tokens[index:index+ne])\n",
    "                refined.append(idt)\n",
    "                dic[idt]+=1;\n",
    "                index+=ne-1;\n",
    "            else:\n",
    "                lm = lmtzr.lemmatize(token)\n",
    "                refined.append(lm);\n",
    "                dic[lm]+=1;\n",
    "        index+=1;\n",
    "    return refined,dic;"
   ]
  },
  {
   "cell_type": "code",
   "execution_count": null,
   "metadata": {
    "collapsed": true
   },
   "outputs": [],
   "source": [
    "#using a sliding window to count how many time a token appear w/ other token\n",
    "def sliding_window(tokens,dic,slid_wind):\n",
    "    temp = tokens[0:slid_wind]\n",
    "    for index in range(slid_wind):\n",
    "        for j in range(index+1,slid_wind):\n",
    "            dic[tokens[index]+\"-\"+tokens[j]]+=1;\n",
    "    index = slid_wind\n",
    "    while index<len(tokens):\n",
    "        temp.pop(0);\n",
    "        this = tokens[index]\n",
    "        for word in temp:\n",
    "            dic[word+\"-\"+this]+=1;\n",
    "        temp.append(this)\n",
    "        index+=1;\n",
    "    return dic;\n",
    "            \n",
    "        "
   ]
  },
  {
   "cell_type": "code",
   "execution_count": 214,
   "metadata": {
    "collapsed": false
   },
   "outputs": [],
   "source": [
    "#compute tf\n",
    "def term_freq(df,dic,txt_name,doc_len):\n",
    "    med = np.median(list(dic.values()))\n",
    "    for key,value in dic.items():\n",
    "        if value > med:\n",
    "            df.ix[txt_name,key] = value/doc_len;\n",
    "    return df"
   ]
  },
  {
   "cell_type": "code",
   "execution_count": null,
   "metadata": {
    "collapsed": false
   },
   "outputs": [],
   "source": [
    "#compute idf to get tf_idf\n",
    "def tf_idf(tf):\n",
    "    n = len(tf.index)\n",
    "    for col in tf.columns:\n",
    "        idf = np.log(n/tf[col].count())\n",
    "        for index,row in tf.iterrows():\n",
    "            if np.isnan(row[col]):\n",
    "                tf.ix[index,col] = 0;\n",
    "            else:\n",
    "                tf.ix[index,col]*=idf\n",
    "    \n",
    "    return tf;"
   ]
  },
  {
   "cell_type": "code",
   "execution_count": null,
   "metadata": {
    "collapsed": false
   },
   "outputs": [],
   "source": [
    "#word2vec example, but I don't feel it's useful here because the result is not fair to me.\n",
    "'''\n",
    "model = Word2Vec(tks, size=100, window=slid_wind, min_count=5, workers=4)\n",
    "for index,word in enumerate(data.columns):\n",
    "    arr = word.split(\"-\")\n",
    "    if len(arr)==1:\n",
    "        word = \" \".join(arr)\n",
    "        print(word)\n",
    "        MAX = 0;\n",
    "        simi = model.most_similar(word)\n",
    "        for a,b in simi:\n",
    "            if b>MAX:\n",
    "                b = MAX;\n",
    "                final = a;\n",
    "        print(final)\n",
    "        print()\n",
    "    if index == 20:\n",
    "        break\n",
    "'''    \n"
   ]
  },
  {
   "cell_type": "code",
   "execution_count": null,
   "metadata": {
    "collapsed": true
   },
   "outputs": [],
   "source": [
    "#sliding window size\n",
    "slid_wind = 2;"
   ]
  },
  {
   "cell_type": "code",
   "execution_count": null,
   "metadata": {
    "collapsed": false
   },
   "outputs": [],
   "source": [
    "#get the term-frequency matrix \n",
    "ibm_keywords = {}\n",
    "ibm_concepts = {}\n",
    "tf = pd.DataFrame()\n",
    "tks = []\n",
    "for folder in text_files:\n",
    "    for txt in text_files[folder]:\n",
    "        response = natural_language_understanding.analyze(\n",
    "          text=text_files[folder][txt],\n",
    "          features=[\n",
    "            Features.Entities(),\n",
    "            Features.Keywords(),\n",
    "            Features.Concepts()\n",
    "            ])\n",
    "        #delete the stopwords\n",
    "        tokens = nltk.word_tokenize(text_files[folder][txt])\n",
    "        #get the entities\n",
    "        entities = [dic['text'] for dic in response['entities']]\n",
    "        #get ibm's keywords and key\n",
    "        ibm_keywords[folder+\"-\"+txt] = [dic['text'] for dic in response['keywords']]\n",
    "        ibm_concepts[folder+\"-\"+txt] = [dic['text'] for dic in response['concepts']]\n",
    "        refined,dic = refine_txt(tokens,entities);\n",
    "        tks.append(refined)\n",
    "        doc_len = len(refined);\n",
    "        #dic = sliding_window(refined,dic,slid_wind);\n",
    "        tf = term_freq(tf,dic,folder+\"-\"+txt,doc_len)\n",
    "    print(folder + \" done\")"
   ]
  },
  {
   "cell_type": "code",
   "execution_count": 216,
   "metadata": {
    "collapsed": false
   },
   "outputs": [],
   "source": [
    "#get the idf \n",
    "#data_0 = tf_idf(tf)\n",
    "#data_2 = tf_idf(tf)\n",
    "#data_6 = tf_idf(tf)\n",
    "data_0 = pd.read_csv(\"tf_idf_sw0.csv\",index_col = 'Unnamed: 0')\n",
    "data_2 = pd.read_csv(\"tf_idf_sw2.csv\",index_col = 'Unnamed: 0')\n",
    "data_6 = pd.read_csv(\"tf_idf_sw6.csv\",index_col = 'Unnamed: 0')"
   ]
  },
  {
   "cell_type": "code",
   "execution_count": null,
   "metadata": {
    "collapsed": true
   },
   "outputs": [],
   "source": [
    "#normalize the data to see if it works better\n",
    "norm = pd.DataFrame()\n",
    "for col in data_0.columns:\n",
    "    norm[col] = (data_0[col]-data_0[col].min())/(data_0[col].max()-data_0[col].min())"
   ]
  },
  {
   "cell_type": "code",
   "execution_count": 212,
   "metadata": {
    "collapsed": false
   },
   "outputs": [
    {
     "name": "stdout",
     "output_type": "stream",
     "text": [
      "[  6.68138666e-01   5.42828745e-01   5.23875186e-01   5.07695893e-01\n",
      "   4.90865356e-01   4.79084617e-01   4.67286102e-01   4.62239605e-01\n",
      "   4.58799441e-01   4.56425083e-01   4.33903248e-01   4.10177919e-01\n",
      "   4.01818432e-01   3.87170147e-01   3.75607401e-01   3.69857027e-01\n",
      "   3.67166929e-01   3.64849532e-01   3.60358947e-01   3.46919820e-01\n",
      "   3.42368915e-01   3.40339272e-01   3.37880911e-01   3.34370956e-01\n",
      "   3.31357352e-01   3.27902125e-01   3.25175797e-01   3.21035100e-01\n",
      "   3.13071829e-01   3.10485509e-01   3.03017625e-01   2.97781417e-01\n",
      "   2.92892361e-01   2.91870726e-01   2.87968795e-01   2.86047487e-01\n",
      "   2.84655715e-01   2.81665543e-01   2.81205929e-01   2.79026119e-01\n",
      "   2.77261666e-01   2.75774249e-01   2.73943252e-01   2.69043671e-01\n",
      "   2.65968784e-01   2.63777923e-01   2.61282982e-01   2.59606626e-01\n",
      "   2.57758799e-01   2.55397740e-01   2.52983174e-01   2.49027992e-01\n",
      "   2.47110942e-01   2.45910683e-01   2.42924496e-01   2.41845720e-01\n",
      "   2.36827453e-01   2.34385559e-01   2.31589183e-01   2.29590956e-01\n",
      "   2.28758311e-01   2.26889505e-01   2.22358345e-01   2.20747975e-01\n",
      "   2.17480099e-01   2.16757643e-01   2.14380331e-01   2.12345293e-01\n",
      "   2.07562917e-01   2.03699973e-01   2.03593692e-01   1.99810171e-01\n",
      "   1.97918542e-01   1.96823792e-01   1.94983963e-01   1.93169029e-01\n",
      "   1.90268545e-01   1.88618850e-01   1.85638853e-01   1.84862038e-01\n",
      "   1.83065847e-01   1.82383350e-01   1.81380112e-01   1.77825577e-01\n",
      "   1.74972833e-01   1.74341859e-01   1.71709182e-01   1.71537525e-01\n",
      "   1.70354119e-01   1.68835159e-01   1.68050545e-01   1.66308647e-01\n",
      "   1.65724520e-01   1.62912363e-01   1.55241134e-01   1.54426548e-01\n",
      "   1.51181393e-01   1.49392846e-01   1.47419524e-01   1.45720335e-01\n",
      "   1.43028252e-01   1.41011290e-01   1.37396276e-01   1.36950041e-01\n",
      "   1.33318859e-01   1.31557814e-01   1.30812365e-01   1.26147007e-01\n",
      "   1.20124257e-01   1.11908974e-01   9.71253519e-02   9.52270731e-02\n",
      "   9.39063284e-02   8.88629645e-02   8.58373948e-02   7.87801882e-02\n",
      "   7.78600515e-02   5.75726899e-02   4.46516136e-02   3.01777771e-02\n",
      "   2.96713172e-16   3.86450547e-17]\n"
     ]
    }
   ],
   "source": [
    "#svd, see number of concepts\n",
    "[u,s,v] = np.linalg.svd(data_0)\n",
    "print(s)"
   ]
  },
  {
   "cell_type": "code",
   "execution_count": 195,
   "metadata": {
    "collapsed": false
   },
   "outputs": [],
   "source": [
    "def my_kmeans(df,k,max_iteration = 1000,dist = \"euc\"):\n",
    "    centers = init_centers(k,df);\n",
    "    if dist == \"euc\":\n",
    "        distance = lambda x,y:np.sqrt(np.sum([i**2 for i in x-y]))\n",
    "    elif dist == \"cos\":\n",
    "        distance = lambda x,y:sum(x[i]*y[i] for i in range(len(x)))/(np.sqrt(np.sum(i**2 for i in x))+np.sqrt(np.sum(i**2 for i in y))) \n",
    "    iter = 0;\n",
    "    clusters = collections.defaultdict(list)\n",
    "    last_result = [1]*len(df)\n",
    "    while iter<max_iteration:\n",
    "        result = []\n",
    "        for index,row in df.iterrows():\n",
    "            case = np.array(row);\n",
    "            min_dis = float(\"inf\");\n",
    "            cluster = k+1;\n",
    "            for cent in centers:\n",
    "                d = distance(case,centers[cent]);\n",
    "                if d<min_dis:\n",
    "                    min_dis = d;\n",
    "                    cluster = cent;\n",
    "            result.append(cluster);\n",
    "            clusters[cluster].append(case);\n",
    "        for cent in clusters:\n",
    "            centers[cent] = np.mean(clusters[cent],axis = 0)\n",
    "        if last_result == result:\n",
    "            break;\n",
    "        last_result = result\n",
    "        iter+=1;\n",
    "    return result,clusters\n",
    "                \n",
    "            \n",
    "def init_centers(k,df):\n",
    "    center = np.random.randint(1,len(df),size=(k,))\n",
    "    ret = {}\n",
    "    count = 1;\n",
    "    for cent in center:\n",
    "        ret[count] = np.array(df.iloc[cent,])\n",
    "        count+=1;\n",
    "    return ret  \n",
    "\n",
    "        "
   ]
  },
  {
   "cell_type": "code",
   "execution_count": 175,
   "metadata": {
    "collapsed": false
   },
   "outputs": [],
   "source": [
    "#sk-learn k-means\n",
    "def kmeans(data,k):\n",
    "    kmeans = KMeans(n_clusters=k, random_state=100).fit(data)\n",
    "    cluster = collections.defaultdict(list)\n",
    "    tot = len(data.index)\n",
    "    preds = kmeans.predict(data)\n",
    "    for index,value in enumerate(preds):\n",
    "        cluster[value].append(data.index[index])\n",
    "    print(\"entropy: \"+str(entropy(cluster,tot)))\n",
    "    return preds"
   ]
  },
  {
   "cell_type": "code",
   "execution_count": 176,
   "metadata": {
    "collapsed": false
   },
   "outputs": [],
   "source": [
    "#entropy as loss\n",
    "def entropy(cluster,tot):\n",
    "    entropy = 0;\n",
    "    for clust in cluster.values():\n",
    "        size = len(clust)\n",
    "        SUM = 0;\n",
    "        dic = collections.defaultdict(int)\n",
    "        for txt in clust:\n",
    "            dic[txt.split(\"-\")[0]]+=1;\n",
    "        for no in dic.values():\n",
    "            if no!=0:\n",
    "                p = no/size\n",
    "                SUM-=p*np.log2(p)\n",
    "        entropy+=(size/tot)*SUM\n",
    "    return entropy"
   ]
  },
  {
   "cell_type": "code",
   "execution_count": 196,
   "metadata": {
    "collapsed": false
   },
   "outputs": [],
   "source": [
    "#k-means cluster with my own algorithm\n",
    "result,clusters = my_kmeans(data_0,15,max_iteration = 1000,dist = \"euc\")"
   ]
  },
  {
   "cell_type": "code",
   "execution_count": 215,
   "metadata": {
    "collapsed": false
   },
   "outputs": [
    {
     "name": "stdout",
     "output_type": "stream",
     "text": [
      "entropy: 1.50357804881\n",
      "entropy: 2.02800793776\n",
      "entropy: 2.6999867629\n",
      "/nWith normalize\n",
      "entropy: 2.7941926857\n"
     ]
    }
   ],
   "source": [
    "#k-means cluster w/ sklearn\n",
    "cluster0 = kmeans(data_0,15)\n",
    "#normalize is not helpful here\n",
    "print(\"/nWith normalize\")\n",
    "cluster0_norm = kmeans(norm,15)\n",
    "\n",
    "cluster2 = kmeans(data_2,15)\n",
    "cluster6 = kmeans(data_6,15)\n"
   ]
  },
  {
   "cell_type": "code",
   "execution_count": 182,
   "metadata": {
    "collapsed": false
   },
   "outputs": [
    {
     "name": "stdout",
     "output_type": "stream",
     "text": [
      "entropy: 2.7941926857\n"
     ]
    }
   ],
   "source": []
  },
  {
   "cell_type": "code",
   "execution_count": null,
   "metadata": {
    "collapsed": true
   },
   "outputs": [],
   "source": [
    "#plot clustering using pca\n",
    "pca = decomposition.PCA(n_components=2)\n",
    "pca.fit(data_0)\n",
    "reduced_0 = pca.transform(data_0)\n",
    "reduced_data = pd.DataFrame(reduced_0, columns = ['Dimension 1', 'Dimension 2'])\n",
    "kmeans = KMeans(n_clusters=15, random_state=100).fit(reduced_0)\n",
    "preds = kmeans.predict(reduced_0)\n",
    "cluster_results(reduced_data, preds, kmeans.cluster_centers_)"
   ]
  },
  {
   "cell_type": "code",
   "execution_count": 156,
   "metadata": {
    "collapsed": true
   },
   "outputs": [],
   "source": [
    "def cluster_results(reduced_data, preds, centers):\n",
    "    '''\n",
    "    Visualizes the PCA-reduced cluster data in two dimensions\n",
    "    Adds cues for cluster centers and student-selected sample data\n",
    "    '''\n",
    "\n",
    "    predictions = pd.DataFrame(preds, columns = ['Cluster'])\n",
    "    plot_data = pd.concat([predictions, reduced_data], axis = 1)\n",
    "\n",
    "    # Generate the cluster plot\n",
    "    fig, ax = plt.subplots(figsize = (14,7))\n",
    "\n",
    "    # Color map\n",
    "    cmap = cm.get_cmap('gist_rainbow')\n",
    "\n",
    "    # Color the points based on assigned cluster\n",
    "    for i, cluster in plot_data.groupby('Cluster'):   \n",
    "        cluster.plot(ax = ax, kind = 'scatter', x = 'Dimension 1', y = 'Dimension 2', \\\n",
    "                     color = cmap((i)*1.0/(len(centers)-1)), label = 'Cluster %i'%(i), s=30);\n",
    "\n",
    "    # Plot centers with indicators\n",
    "    for i, c in enumerate(centers):\n",
    "        ax.scatter(x = c[0], y = c[1], color = 'white', edgecolors = 'black', \\\n",
    "                   alpha = 1, linewidth = 2, marker = 'o', s=200);\n",
    "        ax.scatter(x = c[0], y = c[1], marker='$%d$'%(i), alpha = 1, s=100);\n",
    "\n",
    "\n",
    "\n",
    "    # Set plot title\n",
    "    ax.set_title(\"Cluster Learning on PCA-Reduced Data - Centroids Marked by Number\\nTransformed Sample Data Marked by Black Cross\");\n",
    "\n"
   ]
  },
  {
   "cell_type": "code",
   "execution_count": 206,
   "metadata": {
    "collapsed": false
   },
   "outputs": [],
   "source": [
    "def pca_plot(data_0):\n",
    "    #pca,transform no of vectors to 2 for plot\n",
    "    pca = decomposition.PCA(n_components=2)\n",
    "    pca.fit(data_0)\n",
    "    reduced_0 = pca.transform(data_0)\n",
    "    reduced_data = pd.DataFrame(reduced_0, columns = ['Dimension 1', 'Dimension 2'])\n",
    "    kmeans = KMeans(n_clusters=15, random_state=100).fit(reduced_0)\n",
    "    preds = kmeans.predict(reduced_0)\n",
    "    cluster_results(reduced_data, preds, kmeans.cluster_centers_)"
   ]
  },
  {
   "cell_type": "code",
   "execution_count": 209,
   "metadata": {
    "collapsed": false
   },
   "outputs": [
    {
     "data": {
      "image/png": "[encoded data removed]",
      "text/plain": [
       "<matplotlib.figure.Figure at 0x116ce93c8>"
      ]
     },
     "metadata": {},
     "output_type": "display_data"
    }
   ],
   "source": [
    "pca_plot(data_0)"
   ]
  }
 ],
 "metadata": {
  "anaconda-cloud": {},
  "kernelspec": {
   "display_name": "Python [conda root]",
   "language": "python",
   "name": "conda-root-py"
  },
  "language_info": {
   "codemirror_mode": {
    "name": "ipython",
    "version": 3
   },
   "file_extension": ".py",
   "mimetype": "text/x-python",
   "name": "python",
   "nbconvert_exporter": "python",
   "pygments_lexer": "ipython3",
   "version": "3.5.2"
  }
 },
 "nbformat": 4,
 "nbformat_minor": 2
}
