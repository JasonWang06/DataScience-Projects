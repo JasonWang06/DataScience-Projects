{
 "cells": [
  {
   "cell_type": "code",
   "execution_count": null,
   "metadata": {
    "collapsed": false
   },
   "outputs": [],
   "source": [
    "import json\n",
    "from watson_developer_cloud import NaturalLanguageUnderstandingV1\n",
    "import watson_developer_cloud.natural_language_understanding.features.v1 as Features\n",
    "import os\n",
    "import pandas as pd\n",
    "import collections"
   ]
  },
  {
   "cell_type": "code",
   "execution_count": null,
   "metadata": {
    "collapsed": false
   },
   "outputs": [],
   "source": [
    "#initialize objects\n",
    "text_files = collections.defaultdict(dict)\n",
    "keywords_og = collections.defaultdict(dict)\n",
    "natural_language_understanding = NaturalLanguageUnderstandingV1(\n",
    "    version=\"2017-02-27\",\n",
    "    username= \"f5a94af4-8d30-4e17-ab0e-4dcf4c13334c\",\n",
    "    password=\"6F4aRO0rxkrd\")"
   ]
  },
  {
   "cell_type": "code",
   "execution_count": null,
   "metadata": {
    "collapsed": false
   },
   "outputs": [],
   "source": [
    "#using watson to analyze texts\n",
    "\n",
    "for filename in os.listdir(os.getcwd()+'/DataSet'):\n",
    "    if filename.startswith(\"C\"):\n",
    "        add = os.getcwd()+'/DataSet/'+filename;\n",
    "        for txt in os.listdir(add):\n",
    "            if txt.endswith(\"txt\"):\n",
    "                try:\n",
    "                    with open(add+\"//\"+txt, 'r',encoding='iso-8859-15') as myfile:\n",
    "                        data=myfile.read()\n",
    "                        text_files[filename][txt] = data  \n",
    "                        response = natural_language_understanding.analyze(\n",
    "                          text=data,\n",
    "                          features=[\n",
    "                            Features.Entities(),\n",
    "                            Features.Keywords(),\n",
    "                            Features.Concepts()\n",
    "                            ]\n",
    "                        )\n",
    "                        keywords_og[filename][txt] = response;\n",
    "                        print(filename+\"/\"+txt+\" done!\")\n",
    "                except Exception as inst:\n",
    "                    print(add+\"/\"+txt)\n",
    "                    print(type(inst))     # the exception instance\n"
   ]
  },
  {
   "cell_type": "code",
   "execution_count": null,
   "metadata": {
    "collapsed": false
   },
   "outputs": [],
   "source": [
    "#getting the concepts of every file and save them to csv\n",
    "key_concepts = pd.DataFrame();\n",
    "key_terms = pd.DataFrame();\n",
    "\n",
    "for doc in keywords:\n",
    "    print(\"Now in doc: \"+ doc)\n",
    "    for file in keywords[doc]:\n",
    "        row = 0;\n",
    "        js = keywords_og[doc][file]\n",
    "        for e in js[\"concepts\"]:\n",
    "            key_concepts.loc[row,doc+\"/\"+file] = e['text'];\n",
    "            key_terms.loc[row,doc+\"/\"+file] = e['text'];\n",
    "            row+=1;\n",
    "        \n",
    "        for e in js['keywords']:\n",
    "            key_terms.loc[row,doc+\"/\"+file] = e['text'];\n",
    "            row+=1;\n",
    "key_concepts.to_csv(\"key_concepts.csv\")\n",
    "key_terms.to_csv(\"key_terms.csv\")"
   ]
  },
  {
   "cell_type": "code",
   "execution_count": null,
   "metadata": {
    "collapsed": false
   },
   "outputs": [],
   "source": []
  }
 ],
 "metadata": {
  "anaconda-cloud": {},
  "kernelspec": {
   "display_name": "Python [conda root]",
   "language": "python",
   "name": "conda-root-py"
  },
  "language_info": {
   "codemirror_mode": {
    "name": "ipython",
    "version": 3
   },
   "file_extension": ".py",
   "mimetype": "text/x-python",
   "name": "python",
   "nbconvert_exporter": "python",
   "pygments_lexer": "ipython3",
   "version": "3.5.2"
  }
 },
 "nbformat": 4,
 "nbformat_minor": 2
}
